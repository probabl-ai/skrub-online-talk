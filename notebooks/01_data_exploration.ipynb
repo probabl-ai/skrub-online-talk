{
 "cells": [
  {
   "cell_type": "markdown",
   "id": "0dba986b",
   "metadata": {},
   "source": [
    "\n",
    "# Data exploration"
   ]
  },
  {
   "cell_type": "code",
   "execution_count": null,
   "id": "82d758fb",
   "metadata": {},
   "outputs": [],
   "source": [
    "from skrub.datasets import fetch_employee_salaries\n",
    "\n",
    "dataset = fetch_employee_salaries()"
   ]
  },
  {
   "cell_type": "code",
   "execution_count": null,
   "id": "a9cfebf9",
   "metadata": {},
   "outputs": [],
   "source": [
    "dataset.employee_salaries.head()"
   ]
  },
  {
   "cell_type": "markdown",
   "id": "fb328fbe",
   "metadata": {
    "lines_to_next_cell": 2
   },
   "source": [
    "\n",
    "Let's ask Claude to explore this dataframe for us:\n",
    "\n",
    "**🤖 Prompt:**\n",
    "\n",
    "*I would like to explore the `dataset.employee_salaries` dataframe to get some\n",
    "insights about what data am I facing?*\n",
    "\n",
    "*Could you help me, please?*"
   ]
  },
  {
   "cell_type": "code",
   "execution_count": null,
   "id": "ab7472b6",
   "metadata": {},
   "outputs": [],
   "source": [
    "# Basic information about the dataset\n",
    "print(\"Dataset shape:\", dataset.employee_salaries.shape)\n",
    "print(\"\\nColumn names and data types:\")\n",
    "print(dataset.employee_salaries.dtypes)"
   ]
  },
  {
   "cell_type": "code",
   "execution_count": null,
   "id": "3904e723",
   "metadata": {},
   "outputs": [],
   "source": [
    "# Dataset information\n",
    "print(\"Dataset information:\")\n",
    "print(\n",
    "    f\"Dataset name: {dataset.name if hasattr(dataset, 'name') else 'Employee Salaries'}\"\n",
    ")\n",
    "print(f\"Number of features: {len(dataset.employee_salaries.columns)}\")\n",
    "print(f\"Number of samples: {len(dataset.employee_salaries)}\")"
   ]
  },
  {
   "cell_type": "code",
   "execution_count": null,
   "id": "2118b9ff",
   "metadata": {},
   "outputs": [],
   "source": [
    "# Basic statistics for numerical columns\n",
    "print(\"Numerical columns statistics:\")\n",
    "print(dataset.employee_salaries.describe())"
   ]
  },
  {
   "cell_type": "code",
   "execution_count": null,
   "id": "b5e308bc",
   "metadata": {},
   "outputs": [],
   "source": [
    "# Check for missing values\n",
    "print(\"Missing values per column:\")\n",
    "print(dataset.employee_salaries.isnull().sum())"
   ]
  },
  {
   "cell_type": "code",
   "execution_count": null,
   "id": "74247d72",
   "metadata": {},
   "outputs": [],
   "source": [
    "# Unique values in categorical columns\n",
    "print(\"Unique values in categorical columns:\")\n",
    "for col in dataset.employee_salaries.select_dtypes(include=[\"object\"]).columns:\n",
    "    unique_count = dataset.employee_salaries[col].nunique()\n",
    "    print(f\"\\n{col}: {unique_count} unique values\")\n",
    "    if unique_count <= 20:  # Show values if not too many\n",
    "        print(f\"Values: {dataset.employee_salaries[col].unique()}\")\n",
    "    else:\n",
    "        print(f\"Sample values: {dataset.employee_salaries[col].unique()[:10]}\")"
   ]
  },
  {
   "cell_type": "code",
   "execution_count": null,
   "id": "d8142e9d",
   "metadata": {},
   "outputs": [],
   "source": [
    "# Check the target variable distribution\n",
    "if \"salary\" in dataset.employee_salaries.columns:\n",
    "    print(\"Salary distribution:\")\n",
    "    print(dataset.employee_salaries[\"salary\"].describe())\n",
    "    print(\n",
    "        f\"\\nSalary range: {dataset.employee_salaries['salary'].min():.2f} - \"\n",
    "        f\"{dataset.employee_salaries['salary'].max():.2f}\"\n",
    "    )"
   ]
  },
  {
   "cell_type": "code",
   "execution_count": null,
   "id": "a469af0a",
   "metadata": {},
   "outputs": [],
   "source": [
    "# Sample of the data\n",
    "print(\"First 10 rows of the dataset:\")\n",
    "print(dataset.employee_salaries.head(10))"
   ]
  },
  {
   "cell_type": "code",
   "execution_count": null,
   "id": "865f83f3",
   "metadata": {},
   "outputs": [],
   "source": [
    "# Check for any potential data quality issues\n",
    "print(\"Data quality check:\")\n",
    "print(f\"Duplicate rows: {dataset.employee_salaries.duplicated().sum()}\")\n",
    "print(f\"Rows with all NaN: {dataset.employee_salaries.isnull().all(axis=1).sum()}\")"
   ]
  },
  {
   "cell_type": "markdown",
   "id": "0791e6a0",
   "metadata": {},
   "source": [
    "\n",
    "Pretty verbose and not actual plots. Let's request some:\n",
    "\n",
    "**🤖 Prompt:**\n",
    "\n",
    "*Please add also a couple of visual display to check the distribution of the\n",
    "different type of data.*"
   ]
  },
  {
   "cell_type": "code",
   "execution_count": null,
   "id": "88989ec6",
   "metadata": {},
   "outputs": [],
   "source": [
    "# Import visualization libraries\n",
    "import matplotlib.pyplot as plt"
   ]
  },
  {
   "cell_type": "code",
   "execution_count": null,
   "id": "b267544a",
   "metadata": {},
   "outputs": [],
   "source": [
    "# Create a comprehensive visualization dashboard\n",
    "fig, axes = plt.subplots(3, 3, figsize=(20, 15))\n",
    "fig.suptitle(\n",
    "    \"Employee Salaries Dataset - Data Distribution Analysis\",\n",
    "    fontsize=16,\n",
    "    fontweight=\"bold\",\n",
    ")\n",
    "\n",
    "# 1. Salary distribution (histogram)\n",
    "axes[0, 0].hist(\n",
    "    dataset.employee_salaries[\"current_annual_salary\"],\n",
    "    bins=50,\n",
    "    alpha=0.7,\n",
    "    edgecolor=\"black\",\n",
    ")\n",
    "axes[0, 0].set_title(\"Salary Distribution\")\n",
    "axes[0, 0].set_xlabel(\"Annual Salary ($)\")\n",
    "axes[0, 0].set_ylabel(\"Frequency\")\n",
    "axes[0, 0].ticklabel_format(style=\"plain\", axis=\"x\")\n",
    "\n",
    "# 2. Salary distribution (box plot)\n",
    "axes[0, 1].boxplot(dataset.employee_salaries[\"current_annual_salary\"])\n",
    "axes[0, 1].set_title(\"Salary Distribution (Box Plot)\")\n",
    "axes[0, 1].set_ylabel(\"Annual Salary ($)\")\n",
    "axes[0, 1].ticklabel_format(style=\"plain\", axis=\"y\")\n",
    "\n",
    "# 3. Gender distribution\n",
    "gender_counts = dataset.employee_salaries[\"gender\"].value_counts()\n",
    "axes[0, 2].pie(\n",
    "    gender_counts.values, labels=gender_counts.index, autopct=\"%1.1f%%\", startangle=90\n",
    ")\n",
    "axes[0, 2].set_title(\"Gender Distribution\")\n",
    "\n",
    "# 4. Top 10 departments by employee count\n",
    "dept_counts = dataset.employee_salaries[\"department_name\"].value_counts().head(10)\n",
    "axes[1, 0].barh(range(len(dept_counts)), dept_counts.values)\n",
    "axes[1, 0].set_yticks(range(len(dept_counts)))\n",
    "axes[1, 0].set_yticklabels(\n",
    "    [name[:30] + \"...\" if len(name) > 30 else name for name in dept_counts.index]\n",
    ")\n",
    "axes[1, 0].set_title(\"Top 10 Departments by Employee Count\")\n",
    "axes[1, 0].set_xlabel(\"Number of Employees\")\n",
    "\n",
    "# 5. Assignment category distribution\n",
    "assignment_counts = dataset.employee_salaries[\"assignment_category\"].value_counts()\n",
    "axes[1, 1].bar(assignment_counts.index, assignment_counts.values)\n",
    "axes[1, 1].set_title(\"Assignment Category Distribution\")\n",
    "axes[1, 1].set_ylabel(\"Number of Employees\")\n",
    "axes[1, 1].tick_params(axis=\"x\", rotation=45)\n",
    "\n",
    "# 6. Year first hired distribution\n",
    "year_counts = dataset.employee_salaries[\"year_first_hired\"].value_counts().sort_index()\n",
    "axes[1, 2].plot(\n",
    "    year_counts.index, year_counts.values, marker=\"o\", linewidth=2, markersize=4\n",
    ")\n",
    "axes[1, 2].set_title(\"Hiring Trends Over Time\")\n",
    "axes[1, 2].set_xlabel(\"Year First Hired\")\n",
    "axes[1, 2].set_ylabel(\"Number of Employees\")\n",
    "axes[1, 2].grid(True, alpha=0.3)\n",
    "\n",
    "# 7. Salary by gender (box plot)\n",
    "salary_by_gender = [\n",
    "    dataset.employee_salaries[dataset.employee_salaries[\"gender\"] == gender][\n",
    "        \"current_annual_salary\"\n",
    "    ].dropna()\n",
    "    for gender in [\"F\", \"M\"]\n",
    "]\n",
    "axes[2, 0].boxplot(salary_by_gender, tick_labels=[\"Female\", \"Male\"])\n",
    "axes[2, 0].set_title(\"Salary Distribution by Gender\")\n",
    "axes[2, 0].set_ylabel(\"Annual Salary ($)\")\n",
    "axes[2, 0].ticklabel_format(style=\"plain\", axis=\"y\")\n",
    "\n",
    "# 8. Salary by assignment category (box plot)\n",
    "salary_by_category = [\n",
    "    dataset.employee_salaries[dataset.employee_salaries[\"assignment_category\"] == cat][\n",
    "        \"current_annual_salary\"\n",
    "    ]\n",
    "    for cat in dataset.employee_salaries[\"assignment_category\"].unique()\n",
    "]\n",
    "axes[2, 1].boxplot(\n",
    "    salary_by_category,\n",
    "    tick_labels=dataset.employee_salaries[\"assignment_category\"].unique(),\n",
    ")\n",
    "axes[2, 1].set_title(\"Salary Distribution by Assignment Category\")\n",
    "axes[2, 1].set_ylabel(\"Annual Salary ($)\")\n",
    "axes[2, 1].ticklabel_format(style=\"plain\", axis=\"y\")\n",
    "axes[2, 1].tick_params(axis=\"x\", rotation=45)\n",
    "\n",
    "# 9. Experience vs Salary scatter plot\n",
    "axes[2, 2].scatter(\n",
    "    dataset.employee_salaries[\"year_first_hired\"],\n",
    "    dataset.employee_salaries[\"current_annual_salary\"],\n",
    "    alpha=0.5,\n",
    "    s=10,\n",
    ")\n",
    "axes[2, 2].set_title(\"Experience vs Current Salary\")\n",
    "axes[2, 2].set_xlabel(\"Year First Hired\")\n",
    "axes[2, 2].set_ylabel(\"Current Annual Salary ($)\")\n",
    "axes[2, 2].ticklabel_format(style=\"plain\", axis=\"y\")\n",
    "axes[2, 2].grid(True, alpha=0.3)"
   ]
  },
  {
   "cell_type": "code",
   "execution_count": null,
   "id": "aa0bcc91",
   "metadata": {},
   "outputs": [],
   "source": [
    "# Additional detailed analysis - Top departments by average salary\n",
    "print(\"Top 10 departments by average salary:\")\n",
    "dept_salary = (\n",
    "    dataset.employee_salaries.groupby(\"department_name\")[\"current_annual_salary\"]\n",
    "    .agg([\"mean\", \"count\"])\n",
    "    .round(2)\n",
    ")\n",
    "dept_salary = dept_salary[\n",
    "    dept_salary[\"count\"] >= 10\n",
    "]  # Only departments with at least 10 employees\n",
    "top_depts = dept_salary.sort_values(\"mean\", ascending=False).head(10)\n",
    "print(top_depts)"
   ]
  },
  {
   "cell_type": "code",
   "execution_count": null,
   "id": "8611ccd8",
   "metadata": {},
   "outputs": [],
   "source": [
    "# Salary statistics by gender\n",
    "print(\"\\nSalary statistics by gender:\")\n",
    "gender_salary_stats = dataset.employee_salaries.groupby(\"gender\")[\n",
    "    \"current_annual_salary\"\n",
    "].describe()\n",
    "print(gender_salary_stats.round(2))"
   ]
  },
  {
   "cell_type": "code",
   "execution_count": null,
   "id": "ad46bbbe",
   "metadata": {},
   "outputs": [],
   "source": [
    "# Create a correlation heatmap for numerical variables using matplotlib\n",
    "plt.figure(figsize=(8, 6))\n",
    "numerical_data = dataset.employee_salaries[\n",
    "    [\"year_first_hired\", \"current_annual_salary\"]\n",
    "]\n",
    "correlation_matrix = numerical_data.corr()\n",
    "\n",
    "# Create heatmap using matplotlib\n",
    "im = plt.imshow(correlation_matrix, cmap=\"coolwarm\", aspect=\"auto\", vmin=-1, vmax=1)\n",
    "plt.colorbar(im, shrink=0.8)\n",
    "\n",
    "# Add text annotations\n",
    "for i in range(len(correlation_matrix.columns)):\n",
    "    for j in range(len(correlation_matrix.columns)):\n",
    "        plt.text(\n",
    "            j,\n",
    "            i,\n",
    "            f\"{correlation_matrix.iloc[i, j]:.3f}\",\n",
    "            ha=\"center\",\n",
    "            va=\"center\",\n",
    "            fontweight=\"bold\",\n",
    "        )\n",
    "\n",
    "plt.xticks(range(len(correlation_matrix.columns)), correlation_matrix.columns)\n",
    "plt.yticks(range(len(correlation_matrix.columns)), correlation_matrix.columns)\n",
    "plt.title(\"Correlation Matrix - Numerical Variables\")"
   ]
  },
  {
   "cell_type": "markdown",
   "id": "e28e8c6a",
   "metadata": {},
   "source": [
    "\n",
    "Can we do better knowing that this process of exploring data is recurrent."
   ]
  },
  {
   "cell_type": "code",
   "execution_count": null,
   "id": "3d8d1550",
   "metadata": {},
   "outputs": [],
   "source": [
    "from skrub import TableReport\n",
    "\n",
    "report = TableReport(dataset.employee_salaries)\n",
    "report"
   ]
  },
  {
   "cell_type": "code",
   "execution_count": null,
   "id": "42e51bd9",
   "metadata": {},
   "outputs": [],
   "source": [
    "report.write_html(\"../output/report.html\")"
   ]
  }
 ],
 "metadata": {
  "jupytext": {
   "cell_metadata_filter": "-all",
   "main_language": "python",
   "notebook_metadata_filter": "-all"
  }
 },
 "nbformat": 4,
 "nbformat_minor": 5
}
